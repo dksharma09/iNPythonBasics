{
 "cells": [
  {
   "cell_type": "markdown",
   "id": "4033f0c6",
   "metadata": {},
   "source": [
    "# Ques no 1"
   ]
  },
  {
   "cell_type": "markdown",
   "id": "2ead7d6d",
   "metadata": {},
   "source": [
    "On amazon website we have the following available items -\n",
    "amazon_website = [(\"watch\", 5000), (\"phone\", 10000), (\"laptop\", 50000), (\"shirt\", 1000)]\n",
    "Take the user input N no. of times and find out the total cost to be paid?\n",
    "\n",
    "OR\n",
    "\n",
    "You can ask the user quntity or the count of item?\n",
    "\n",
    "if the item is not present in the amazon website then print that item as out of stock and do add it total\n",
    "\n",
    "HINT: while, for loop.. indexing"
   ]
  },
  {
   "cell_type": "code",
   "execution_count": 10,
   "id": "0a38a464",
   "metadata": {},
   "outputs": [
    {
     "name": "stdout",
     "output_type": "stream",
     "text": [
      "Enter the product name : x\n",
      "Enter the no of product needed : 8\n",
      "This product is currently not available.\n"
     ]
    }
   ],
   "source": [
    "amazon_website = [(\"watch\", 5000), (\"phone\", 10000), (\"laptop\", 50000), (\"shirt\", 1000)]\n",
    "\n",
    "neededProduct = input(\"Enter the product name : \")\n",
    "noOfProductNeeded = int(input(\"Enter the no of product needed : \"))\n",
    "notAvailable = 0\n",
    "for i in range(len(amazon_website)) :\n",
    "    if amazon_website[i][0] == neededProduct :\n",
    "        notAvailable = 1\n",
    "        print(f\"Total cost = {amazon_website[i][1] * noOfProductNeeded}\")\n",
    "if notAvailable == 0 :\n",
    "    print(\"This product is currently not available.\")\n",
    "    "
   ]
  },
  {
   "cell_type": "markdown",
   "id": "c6bc45cc",
   "metadata": {},
   "source": [
    "# Ques no 2"
   ]
  },
  {
   "cell_type": "code",
   "execution_count": 11,
   "id": "958839e8",
   "metadata": {},
   "outputs": [
    {
     "name": "stdout",
     "output_type": "stream",
     "text": [
      "Object `snippet` not found.\n"
     ]
    }
   ],
   "source": [
    "What will be the output of the following code snippet?"
   ]
  },
  {
   "cell_type": "code",
   "execution_count": null,
   "id": "9fdcae0c",
   "metadata": {},
   "outputs": [],
   "source": [
    "What will be the output of the following code snippet"
   ]
  },
  {
   "cell_type": "code",
   "execution_count": 12,
   "id": "e29ee405",
   "metadata": {},
   "outputs": [
    {
     "name": "stdout",
     "output_type": "stream",
     "text": [
      "2 3 4 5 6 6 "
     ]
    }
   ],
   "source": [
    "arr = [1, 2, 3, 4, 5, 6]\n",
    "for i in range(1, 6):\n",
    "    arr[i - 1] = arr[i]\n",
    "for i in range(0, 6): \n",
    "    print(arr[i], end = \" \")"
   ]
  },
  {
   "cell_type": "markdown",
   "id": "d5fdc7d0",
   "metadata": {},
   "source": [
    "# Explanation"
   ]
  },
  {
   "cell_type": "markdown",
   "id": "346bbf2c",
   "metadata": {},
   "source": [
    "Here, we are providing Initial indexes the next index value till second last index."
   ]
  },
  {
   "cell_type": "markdown",
   "id": "ea5d5940",
   "metadata": {},
   "source": [
    "# Ques no 3"
   ]
  },
  {
   "cell_type": "markdown",
   "id": "d62f22da",
   "metadata": {},
   "source": [
    "Write a Python program to find the repeated items of a tuple."
   ]
  },
  {
   "cell_type": "code",
   "execution_count": 13,
   "id": "dc768fa2",
   "metadata": {},
   "outputs": [
    {
     "name": "stdout",
     "output_type": "stream",
     "text": [
      "1\n",
      "3\n",
      "4\n",
      "5\n",
      "6\n",
      "7\n",
      "9\n"
     ]
    }
   ],
   "source": [
    "inputTuple = (1,3,4,5,3,4,4,5,6,1,3,3,8,9,7,9,4,6,4,7,6,5,0)\n",
    "sortTuple = sorted(inputTuple)\n",
    "for i in range(len(sortTuple)) :\n",
    "    if i != len(sortTuple) - 1 and sortTuple[i] == sortTuple[i+1] :\n",
    "        if i != 0 and sortTuple[i] != sortTuple[i-1] :\n",
    "            print(sortTuple[i])\n",
    "    "
   ]
  },
  {
   "cell_type": "markdown",
   "id": "54c9dea8",
   "metadata": {},
   "source": [
    "# Ques no 4"
   ]
  },
  {
   "cell_type": "markdown",
   "id": "aabb813c",
   "metadata": {},
   "source": [
    "Replace last value of tuples in a list with 500. Try using list comprehension\n",
    "Example -:\n",
    "\n",
    "Input -:\n",
    "\n",
    "[(10, 20, 40), (40, 50, 60), (70, 80, 90)]\n",
    "\n",
    "Output -:\n",
    "[(10, 20, 500), (40, 50, 500), (70, 80, 500)]\n"
   ]
  },
  {
   "cell_type": "code",
   "execution_count": 14,
   "id": "1305962d",
   "metadata": {},
   "outputs": [
    {
     "name": "stdout",
     "output_type": "stream",
     "text": [
      "[(10, 20, 500), (40, 50, 500), (70, 80, 500)]\n"
     ]
    }
   ],
   "source": [
    "x = [(10, 20, 40), (40, 50, 60), (70, 80, 90)]\n",
    "x = [tuple(x[j][i] if i != (len(x[j]) - 1) else 500 for i in range(len(x[j]))) for j in range(len(x))]\n",
    "print(x)"
   ]
  },
  {
   "cell_type": "code",
   "execution_count": null,
   "id": "b360eace",
   "metadata": {},
   "outputs": [],
   "source": []
  }
 ],
 "metadata": {
  "kernelspec": {
   "display_name": "Python 3 (ipykernel)",
   "language": "python",
   "name": "python3"
  },
  "language_info": {
   "codemirror_mode": {
    "name": "ipython",
    "version": 3
   },
   "file_extension": ".py",
   "mimetype": "text/x-python",
   "name": "python",
   "nbconvert_exporter": "python",
   "pygments_lexer": "ipython3",
   "version": "3.9.12"
  }
 },
 "nbformat": 4,
 "nbformat_minor": 5
}
