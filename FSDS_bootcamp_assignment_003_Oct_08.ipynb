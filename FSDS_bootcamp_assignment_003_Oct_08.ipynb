{
 "cells": [
  {
   "cell_type": "markdown",
   "id": "bf3cca70",
   "metadata": {},
   "source": [
    "# Ques no 1"
   ]
  },
  {
   "cell_type": "markdown",
   "id": "716c7ca1",
   "metadata": {},
   "source": [
    "Count the number of times iNeuron appears in the string.\n",
    "\n",
    "text = \"Welcome to iNeuron, You are a part of FSDS Bootcamp 2 in iNeuron. I hope you are enjoying the course by iNeuron\""
   ]
  },
  {
   "cell_type": "code",
   "execution_count": 3,
   "id": "f25d3dd0",
   "metadata": {},
   "outputs": [
    {
     "data": {
      "text/plain": [
       "3"
      ]
     },
     "execution_count": 3,
     "metadata": {},
     "output_type": "execute_result"
    }
   ],
   "source": [
    "text = \"Welcome to iNeuron, You are a part of FSDS Bootcamp 2 in iNeuron. I hope you are enjoying the course by iNeuron\"\n",
    "\n",
    "text.count(\"iNeuron\")"
   ]
  },
  {
   "cell_type": "markdown",
   "id": "a423ba91",
   "metadata": {},
   "source": [
    "# Ques no 2"
   ]
  },
  {
   "cell_type": "markdown",
   "id": "d06d7577",
   "metadata": {},
   "source": [
    "Check if position 5 to 11 ends with the phrase iNeuron. in the string\n",
    "\n",
    "txt = \"Hello, welcome to FSDS 2.0 at iNeuron.\" "
   ]
  },
  {
   "cell_type": "code",
   "execution_count": 1,
   "id": "b1de9d24",
   "metadata": {},
   "outputs": [
    {
     "name": "stdout",
     "output_type": "stream",
     "text": [
      "No, It is not matching.\n"
     ]
    }
   ],
   "source": [
    "txt = \"Hello, welcome to FSDS 2.0 at iNeuron.\"\n",
    "\n",
    "newtxt = txt[5:11:1]\n",
    "if newtxt == \"iNeuron\" :\n",
    "    print(\"Yes, It is matching.\")\n",
    "else :\n",
    "    print(\"No, It is not matching.\")"
   ]
  },
  {
   "cell_type": "markdown",
   "id": "ea002556",
   "metadata": {},
   "source": [
    "# Ques no 3"
   ]
  },
  {
   "cell_type": "markdown",
   "id": "9cfa3401",
   "metadata": {},
   "source": [
    "Write a program that takes your full name as input and displays the abbreviations of the first and middle names except the last name which is displayed as it is. For example, if your name is Sunny Bhaveen Chandra, then the output should be S.B.Chandra."
   ]
  },
  {
   "cell_type": "code",
   "execution_count": 21,
   "id": "05397a51",
   "metadata": {},
   "outputs": [
    {
     "name": "stdout",
     "output_type": "stream",
     "text": [
      "Enter your full name : S K Sharma\n",
      "S.K.Sharma\n"
     ]
    }
   ],
   "source": [
    "fullName = input(\"Enter your full name : \")\n",
    "\n",
    "name = fullName.split(\" \")\n",
    "outputName = \"\"\n",
    "j = 0\n",
    "for i in name :\n",
    "    if j == 2 :\n",
    "        outputName = outputName + i\n",
    "    else :\n",
    "        outputName = outputName + i[0] + \".\"\n",
    "    j = j+1\n",
    "        \n",
    "print(outputName)"
   ]
  },
  {
   "cell_type": "markdown",
   "id": "1132d0aa",
   "metadata": {},
   "source": [
    "# Ques no 4"
   ]
  },
  {
   "cell_type": "markdown",
   "id": "b727a1e1",
   "metadata": {},
   "source": [
    "Join all items in a list into a string, using a hash(#) character as separator:\n",
    "\n",
    "LIST = [\"My\", \"name\", \"is\", \"Rishav\", \"Dash\"]"
   ]
  },
  {
   "cell_type": "code",
   "execution_count": 22,
   "id": "762fc9d8",
   "metadata": {},
   "outputs": [
    {
     "name": "stdout",
     "output_type": "stream",
     "text": [
      "My#name#is#Rishav#Dash\n"
     ]
    }
   ],
   "source": [
    "LIST = [\"My\", \"name\", \"is\", \"Rishav\", \"Dash\"]\n",
    "\n",
    "myIntro = \"#\".join(LIST)\n",
    "print(myIntro)"
   ]
  },
  {
   "cell_type": "markdown",
   "id": "de20eb9f",
   "metadata": {},
   "source": [
    "# Ques no 5"
   ]
  },
  {
   "cell_type": "markdown",
   "id": "2ca4675c",
   "metadata": {},
   "source": [
    "Write example for the following string manipulation function,\n",
    "\n",
    "- isdecimal()\n",
    "- islower()\n",
    "- isupper()\n",
    "- isalpha()\n",
    "- isnumeric()"
   ]
  },
  {
   "cell_type": "code",
   "execution_count": 26,
   "id": "d16264c3",
   "metadata": {},
   "outputs": [
    {
     "name": "stdout",
     "output_type": "stream",
     "text": [
      "Index = 2 is indicating about money.\n"
     ]
    }
   ],
   "source": [
    "# isdecimal()\n",
    "# Let's test it for a list that which index indicates about money.\n",
    "myList = [\"I\", \"have\", \"2345\", \"bucks\", \"in\", \"my\", \"wallet\"]\n",
    "j=0\n",
    "for i in myList :\n",
    "    if i.isdecimal() :\n",
    "        print(f\"Index = {j} is indicating about money.\")\n",
    "    j = j+1    \n",
    "    "
   ]
  },
  {
   "cell_type": "code",
   "execution_count": 27,
   "id": "c211d2d6",
   "metadata": {},
   "outputs": [
    {
     "name": "stdout",
     "output_type": "stream",
     "text": [
      "False\n"
     ]
    }
   ],
   "source": [
    "# islower\n",
    "# It checks wheather all the letters of a string are in lowercase or not.\n",
    "myName = \"Dushyant Sharma\"\n",
    "print(myName.islower())"
   ]
  },
  {
   "cell_type": "code",
   "execution_count": 34,
   "id": "9820d12c",
   "metadata": {},
   "outputs": [
    {
     "name": "stdout",
     "output_type": "stream",
     "text": [
      "True\n"
     ]
    }
   ],
   "source": [
    "# isupper\n",
    "# It checks wheather all the letters of a string are in lowercase or not.\n",
    "myName = \"DS\"\n",
    "print(myName.isupper())"
   ]
  },
  {
   "cell_type": "code",
   "execution_count": 33,
   "id": "56f2c25b",
   "metadata": {},
   "outputs": [
    {
     "name": "stdout",
     "output_type": "stream",
     "text": [
      "True\n"
     ]
    }
   ],
   "source": [
    "# isalpha\n",
    "# It checks wheather all the characters are string or not.\n",
    "code = \"MHYPSX\"\n",
    "print(code.isalpha())"
   ]
  },
  {
   "cell_type": "code",
   "execution_count": 32,
   "id": "8b26fcc6",
   "metadata": {},
   "outputs": [
    {
     "name": "stdout",
     "output_type": "stream",
     "text": [
      "True\n"
     ]
    }
   ],
   "source": [
    "# isnumeric\n",
    "# It checks wheather all the characters are numeric or not.\n",
    "mobileNo = \"12345678\"\n",
    "print(mobileNo.isnumeric())"
   ]
  },
  {
   "cell_type": "markdown",
   "id": "001178a4",
   "metadata": {},
   "source": [
    "# Ques no 6"
   ]
  },
  {
   "cell_type": "markdown",
   "id": "5d326b26",
   "metadata": {},
   "source": [
    "Indian PAN card format follows the following formats -\n",
    "\n",
    "AYEPC7894X\n",
    "ABCDE9999Y Take user input for PAN_CARD and validate as per the above example."
   ]
  },
  {
   "cell_type": "code",
   "execution_count": 43,
   "id": "a79f0952",
   "metadata": {},
   "outputs": [
    {
     "name": "stdout",
     "output_type": "stream",
     "text": [
      "Enter your PAN Card number : MHYP49570\n",
      "Sorry, You have entered invalid PAN Card number. Please, enter valid 10 character PAN Card number.\n"
     ]
    }
   ],
   "source": [
    "pancard = input(\"Enter your PAN Card number : \")\n",
    "length = len(pancard)\n",
    "if length == 10 :\n",
    "    alpha = pancard[0:5:1] + pancard[length-1]\n",
    "    numeric = pancard[5:length-1:1]\n",
    "    if alpha.isalpha() and numeric.isnumeric() :\n",
    "        print(\"Congrats!, You have entered valid PAN Card number.\")\n",
    "    else :\n",
    "        print(\"Sorry, You have entered invalid PAN Card number.\")\n",
    "else :\n",
    "    print(\"Sorry, You have entered invalid PAN Card number. Please, enter valid 10 character PAN Card number.\")"
   ]
  },
  {
   "cell_type": "code",
   "execution_count": null,
   "id": "f53694dc",
   "metadata": {},
   "outputs": [],
   "source": []
  },
  {
   "cell_type": "code",
   "execution_count": null,
   "id": "6944e5ac",
   "metadata": {},
   "outputs": [],
   "source": []
  }
 ],
 "metadata": {
  "kernelspec": {
   "display_name": "Python 3 (ipykernel)",
   "language": "python",
   "name": "python3"
  },
  "language_info": {
   "codemirror_mode": {
    "name": "ipython",
    "version": 3
   },
   "file_extension": ".py",
   "mimetype": "text/x-python",
   "name": "python",
   "nbconvert_exporter": "python",
   "pygments_lexer": "ipython3",
   "version": "3.9.12"
  }
 },
 "nbformat": 4,
 "nbformat_minor": 5
}
