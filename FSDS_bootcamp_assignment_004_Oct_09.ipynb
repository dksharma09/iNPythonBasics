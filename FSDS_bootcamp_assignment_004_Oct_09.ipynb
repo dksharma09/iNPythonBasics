{
 "cells": [
  {
   "cell_type": "markdown",
   "id": "a44e9f3f",
   "metadata": {},
   "source": [
    "# Ques no 1"
   ]
  },
  {
   "cell_type": "markdown",
   "id": "81e41f47",
   "metadata": {},
   "source": [
    "Find the largest number from the given list, use for loop.\n",
    "\n",
    "numbers = [12, 75, 150, 180, 145, 525, 50]"
   ]
  },
  {
   "cell_type": "code",
   "execution_count": 11,
   "id": "eb84f64c",
   "metadata": {},
   "outputs": [
    {
     "name": "stdout",
     "output_type": "stream",
     "text": [
      "525\n"
     ]
    }
   ],
   "source": [
    "numbers = [12, 75, 150, 180, 145, 525, 50]\n",
    "largest_number = numbers[0]\n",
    "\n",
    "for i in numbers :\n",
    "    if largest_number < i :\n",
    "        largest_number = i\n",
    "\n",
    "print(largest_number)"
   ]
  },
  {
   "cell_type": "markdown",
   "id": "b64ddf11",
   "metadata": {},
   "source": [
    "# Ques no 2"
   ]
  },
  {
   "cell_type": "markdown",
   "id": "450c5bbf",
   "metadata": {},
   "source": [
    "Print all the even number between (1, 12)."
   ]
  },
  {
   "cell_type": "code",
   "execution_count": 12,
   "id": "2b9c1aac",
   "metadata": {},
   "outputs": [
    {
     "name": "stdout",
     "output_type": "stream",
     "text": [
      "2\n",
      "4\n",
      "6\n",
      "8\n",
      "10\n"
     ]
    }
   ],
   "source": [
    "for i in range(1,12) :\n",
    "    if i%2 == 0 :\n",
    "        print(i)"
   ]
  },
  {
   "cell_type": "markdown",
   "id": "e0a748f1",
   "metadata": {},
   "source": [
    "# Ques no 3"
   ]
  },
  {
   "cell_type": "markdown",
   "id": "96babf76",
   "metadata": {},
   "source": [
    "Calculate the sum of all numbers from 1 to a given number\n",
    "\n",
    "Expected Output:\n",
    "\n",
    "Enter number 10\n",
    "\n",
    "Sum is:  55"
   ]
  },
  {
   "cell_type": "code",
   "execution_count": 13,
   "id": "fd4fa030",
   "metadata": {},
   "outputs": [
    {
     "name": "stdout",
     "output_type": "stream",
     "text": [
      "Enter a number : 2\n",
      "3\n"
     ]
    }
   ],
   "source": [
    "num = int(input(\"Enter a number : \"))\n",
    "sum = 0\n",
    "for i in range (1, num+1):\n",
    "    sum = sum + i\n",
    "print(sum)"
   ]
  },
  {
   "cell_type": "markdown",
   "id": "7327d6fa",
   "metadata": {},
   "source": [
    "# Ques no 4"
   ]
  },
  {
   "cell_type": "markdown",
   "id": "2d783ffd",
   "metadata": {},
   "source": [
    "Write a program to display only those numbers from a list that satisfy the following conditions\n",
    "\n",
    "The number must be divisible by five\n",
    "\n",
    "If the number is greater than 150, then skip it and move to the next number\n",
    "\n",
    "If the number is greater than 500, then stop the loop\n",
    "\n",
    "numbers = [12, 75, 150, 180, 145, 525, 50]"
   ]
  },
  {
   "cell_type": "code",
   "execution_count": 14,
   "id": "eb73c2f6",
   "metadata": {},
   "outputs": [
    {
     "name": "stdout",
     "output_type": "stream",
     "text": [
      "75\n",
      "145\n"
     ]
    }
   ],
   "source": [
    "numbers = [12, 75, 150, 180, 145, 525, 50]\n",
    "\n",
    "for i in numbers :\n",
    "    if i %  5 == 0 :\n",
    "        if i < 150 :\n",
    "            print(i)\n",
    "        elif i>500 :\n",
    "            break         "
   ]
  },
  {
   "cell_type": "markdown",
   "id": "d9423cd7",
   "metadata": {},
   "source": [
    "# Ques no 5"
   ]
  },
  {
   "cell_type": "markdown",
   "id": "3f757b3d",
   "metadata": {},
   "source": [
    "Print the given list in reverse order.\n",
    "\n",
    "list1 = [10, 20, 30, 40, 50]"
   ]
  },
  {
   "cell_type": "code",
   "execution_count": 15,
   "id": "d4e7ab2c",
   "metadata": {},
   "outputs": [
    {
     "name": "stdout",
     "output_type": "stream",
     "text": [
      "50\n",
      "40\n",
      "30\n",
      "20\n",
      "10\n"
     ]
    }
   ],
   "source": [
    "list1 = [10, 20, 30, 40, 50]\n",
    "length = len(list1)\n",
    "for i in range(length) :\n",
    "    print(list1[length-i-1])"
   ]
  },
  {
   "cell_type": "code",
   "execution_count": null,
   "id": "02154ee1",
   "metadata": {},
   "outputs": [],
   "source": []
  }
 ],
 "metadata": {
  "kernelspec": {
   "display_name": "Python 3 (ipykernel)",
   "language": "python",
   "name": "python3"
  },
  "language_info": {
   "codemirror_mode": {
    "name": "ipython",
    "version": 3
   },
   "file_extension": ".py",
   "mimetype": "text/x-python",
   "name": "python",
   "nbconvert_exporter": "python",
   "pygments_lexer": "ipython3",
   "version": "3.9.12"
  }
 },
 "nbformat": 4,
 "nbformat_minor": 5
}
