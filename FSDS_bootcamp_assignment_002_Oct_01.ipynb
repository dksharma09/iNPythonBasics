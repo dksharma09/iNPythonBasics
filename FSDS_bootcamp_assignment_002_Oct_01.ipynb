{
 "cells": [
  {
   "cell_type": "markdown",
   "id": "03d64145",
   "metadata": {},
   "source": [
    "# Ques no 1"
   ]
  },
  {
   "cell_type": "markdown",
   "id": "c4e48a64",
   "metadata": {},
   "source": [
    "What is indentation error? Why indentation is important? Give one simple example?"
   ]
  },
  {
   "cell_type": "markdown",
   "id": "0fd49820",
   "metadata": {},
   "source": [
    "# Answer"
   ]
  },
  {
   "cell_type": "markdown",
   "id": "fd8facae",
   "metadata": {},
   "source": [
    "Indentation error is an error caused by improper use of tabs and whitespaces.\n",
    "\n",
    "Indentation is important for the readability of the code. Apart from this Python treats the statements with the same indentation level as a single code block whereas in languages like c, c++, etc. a block of code is represented by Curly braces { }.\n",
    "\n",
    "example :\n",
    "\n",
    "website = 'iNeuron'\n",
    "    \n",
    "if website == 'iNeuron': \n",
    "    print('Logging on to iNeuron...') \n",
    "else: \n",
    "    print('retype the URL.') \n",
    "print('All set !')\n",
    "\n",
    "In this example \"All set !\" will be printed in any case because it will be considered as different block of code due to indentation. It's indentation is different from above conditional block of code. "
   ]
  },
  {
   "cell_type": "markdown",
   "id": "4a964289",
   "metadata": {},
   "source": [
    "# Ques no 2"
   ]
  },
  {
   "cell_type": "code",
   "execution_count": 21,
   "id": "b80363fd",
   "metadata": {},
   "outputs": [
    {
     "name": "stdout",
     "output_type": "stream",
     "text": [
      "Hey friend, is class started?: [0-False/1-True]0\n",
      "Since class started...\n",
      "Lets concentrate\n"
     ]
    }
   ],
   "source": [
    "class_started = bool(input(\"Hey friend, is class started?: [0-False/1-True]\"))\n",
    "\n",
    "if class_started:\n",
    "   print(\"Since class started...\")\n",
    "   print(\"Lets concentrate\")\n",
    "else:\n",
    "   print(\"Since class is not started...\")\n",
    "   print(\"let's revise\")    "
   ]
  },
  {
   "cell_type": "code",
   "execution_count": 20,
   "id": "4d090911",
   "metadata": {},
   "outputs": [
    {
     "name": "stdout",
     "output_type": "stream",
     "text": [
      "Hey friend, is class started?: [0-False/1-True]-8\n",
      "Since class started...\n",
      "Lets concentrate\n"
     ]
    }
   ],
   "source": [
    "class_started = bool(int(input(\"Hey friend, is class started?: [0-False/1-True]\")))\n",
    "\n",
    "if class_started:\n",
    "   print(\"Since class started...\")\n",
    "   print(\"Lets concentrate\")\n",
    "else:\n",
    "   print(\"Since class is not started...\")\n",
    "   print(\"let's revise\")"
   ]
  },
  {
   "cell_type": "markdown",
   "id": "ce3adff3",
   "metadata": {},
   "source": [
    "# Explanation"
   ]
  },
  {
   "cell_type": "markdown",
   "id": "bf53426e",
   "metadata": {},
   "source": [
    "Python always take string as input and we are converting it to boolean directly. So, only if we give \"\" as input then it will\n",
    "convert \"\" to false. Now, we need to convert first it to int type then boolean. If we take 0 as input now, it will convert 0 to false. All other int will be converted as True."
   ]
  },
  {
   "cell_type": "markdown",
   "id": "da23ea4c",
   "metadata": {},
   "source": [
    "# Ques no 3"
   ]
  },
  {
   "cell_type": "code",
   "execution_count": 18,
   "id": "a3cd4a6d",
   "metadata": {},
   "outputs": [
    {
     "name": "stdout",
     "output_type": "stream",
     "text": [
      "Enter a value : 1\n",
      "The type of input is string.\n"
     ]
    }
   ],
   "source": [
    "input1 = input(\"Enter a value : \")\n",
    "if type(input1) == str :\n",
    "    print(\"The type of input is string.\")\n",
    "else :\n",
    "    input1 = str(input1)\n",
    "    print(\"The type of input1 is now converted to string.\")"
   ]
  },
  {
   "cell_type": "markdown",
   "id": "b4c1fd89",
   "metadata": {},
   "source": [
    "# Ques no 4"
   ]
  },
  {
   "cell_type": "code",
   "execution_count": 30,
   "id": "84a47bf3",
   "metadata": {},
   "outputs": [
    {
     "name": "stdout",
     "output_type": "stream",
     "text": [
      "c = 252 is largest number among 3 variables.\n"
     ]
    }
   ],
   "source": [
    "a = 78\n",
    "b = -38\n",
    "c = 252\n",
    "if a>b and a>c :\n",
    "    print(f\"a = {a} is largest number among 3 variables.\")\n",
    "elif b>a and b>c :\n",
    "    print(f\"b = {b} is largest number among 3 variables.\")\n",
    "else :\n",
    "    print(f\"c = {c} is largest number among 3 variables.\")"
   ]
  },
  {
   "cell_type": "markdown",
   "id": "226275fd",
   "metadata": {},
   "source": [
    "# Ques no 5"
   ]
  },
  {
   "cell_type": "code",
   "execution_count": 31,
   "id": "6b35de7f",
   "metadata": {},
   "outputs": [
    {
     "name": "stdout",
     "output_type": "stream",
     "text": [
      "False\n"
     ]
    }
   ],
   "source": [
    "a = 6\n",
    "b = 10\n",
    "print( not ( not a == 10 or not b == 10) )"
   ]
  },
  {
   "cell_type": "markdown",
   "id": "c342be9f",
   "metadata": {},
   "source": [
    "# Explanation"
   ]
  },
  {
   "cell_type": "markdown",
   "id": "f0728866",
   "metadata": {},
   "source": [
    "It will print False because it need one condition to be true when we use 'OR'. \"not a==10\" will give us True as internal output\n",
    "then we are reverting internal output by using 'not'. So, final answer will be False."
   ]
  },
  {
   "cell_type": "markdown",
   "id": "c01598e7",
   "metadata": {},
   "source": [
    "# Ques no 6"
   ]
  },
  {
   "cell_type": "code",
   "execution_count": 13,
   "id": "0cacd30e",
   "metadata": {},
   "outputs": [
    {
     "name": "stdout",
     "output_type": "stream",
     "text": [
      "False\n",
      "False\n",
      "False\n"
     ]
    }
   ],
   "source": [
    "# case 1\n",
    "A = 5.0\n",
    "B = 10/2\n",
    "print(A is B)\n",
    "\n",
    "# case 2\n",
    "A = 5.0\n",
    "B = int(10/2)\n",
    "print(A is B)\n",
    "\n",
    "# case 3\n",
    "A = 5.0\n",
    "B = float(10/2)\n",
    "print(A is B)"
   ]
  },
  {
   "cell_type": "markdown",
   "id": "21201a76",
   "metadata": {},
   "source": [
    "# Explanation "
   ]
  },
  {
   "cell_type": "code",
   "execution_count": null,
   "id": "7d7ea05a",
   "metadata": {},
   "outputs": [],
   "source": [
    "Here, In all the 3 cases, we are checking if A is B or not. Whenever, we use is / is not operator, it not only compares values\n",
    "of the variable but also compares memory location of the variable. In this sense, A and B are different."
   ]
  },
  {
   "cell_type": "markdown",
   "id": "4ed8e21a",
   "metadata": {},
   "source": [
    "# Ques no 7"
   ]
  },
  {
   "cell_type": "code",
   "execution_count": 48,
   "id": "60e73554",
   "metadata": {},
   "outputs": [
    {
     "name": "stdout",
     "output_type": "stream",
     "text": [
      "Enter a number : 9\n",
      "That number is divisible by either 3 or 5\n"
     ]
    }
   ],
   "source": [
    "input1 = int(input(\"Enter a number : \"))\n",
    "                   \n",
    "if input1%3 == 0 or input1%5 == 0 :\n",
    "    print(\"That number is divisible by either 3 or 5\")     \n",
    "else :\n",
    "    print(\"That number is not divisible by either 3 or 5\")                 "
   ]
  },
  {
   "cell_type": "markdown",
   "id": "b0dda106",
   "metadata": {},
   "source": [
    "# Ques no 8"
   ]
  },
  {
   "cell_type": "code",
   "execution_count": 1,
   "id": "6637968e",
   "metadata": {},
   "outputs": [
    {
     "name": "stdout",
     "output_type": "stream",
     "text": [
      "Enter a number : 78\n",
      "Enter a number : 78\n",
      "Area of Rectangle = 6084.0\n",
      "It's a square\n"
     ]
    }
   ],
   "source": [
    "length = float(input(\"Enter a number : \"))\n",
    "width = float(input(\"Enter a number : \"))\n",
    "\n",
    "area = length * width\n",
    "\n",
    "print(f\"Area of Rectangle = {area}\")\n",
    "\n",
    "if length == width :\n",
    "    print(\"It's a square\")\n",
    "else :\n",
    "    print(\"It's a rectangle\")"
   ]
  },
  {
   "cell_type": "markdown",
   "id": "46511978",
   "metadata": {},
   "source": [
    "# Ques no 9"
   ]
  },
  {
   "cell_type": "code",
   "execution_count": 49,
   "id": "05c098cb",
   "metadata": {},
   "outputs": [
    {
     "name": "stdout",
     "output_type": "stream",
     "text": [
      "Enter the radius_1 : 4\n",
      "Enter the radius_2 : 4\n",
      "area_1 = 50.2656 and area_2 = 50.2656\n",
      "area_1 is equal to area_2\n"
     ]
    }
   ],
   "source": [
    "radius_1 = float(input(\"Enter the radius_1 : \"))\n",
    "radius_2 = float(input(\"Enter the radius_2 : \"))\n",
    "\n",
    "area_1 = 3.1416 * radius_1 * radius_1\n",
    "area_2 = 3.1416 * radius_2 * radius_2\n",
    "\n",
    "print(f\"area_1 = {area_1} and area_2 = {area_2}\")\n",
    "\n",
    "if area_1 > area_2 :\n",
    "    print(\"area_1 is larger than area_2\")\n",
    "elif area_1 == area_2 :\n",
    "    print(\"area_1 is equal to area_2\")\n",
    "else :\n",
    "    print(\"area_2 is larger than area_1\")\n",
    " "
   ]
  },
  {
   "cell_type": "markdown",
   "id": "32f4bfd1",
   "metadata": {},
   "source": [
    "# Ques no 10"
   ]
  },
  {
   "cell_type": "code",
   "execution_count": 54,
   "id": "07ed6ee0",
   "metadata": {},
   "outputs": [
    {
     "name": "stdout",
     "output_type": "stream",
     "text": [
      "Enter a year : 4546\n",
      "4546 is not a leap year\n"
     ]
    }
   ],
   "source": [
    "year = int(input(\"Enter a year : \"))\n",
    "\n",
    "if year%100 == 0 and year%400 == 0 :\n",
    "    print(f\"{year} is a leap year\")\n",
    "elif year%100 == 0 and year%400 != 0 :\n",
    "    print(f\"{year} is not a leap year\")\n",
    "elif year%4 == 0 :\n",
    "    print(f\"{year} is a leap year\")\n",
    "else :\n",
    "    print(f\"{year} is not a leap year\")"
   ]
  },
  {
   "cell_type": "code",
   "execution_count": null,
   "id": "ad48ec6b",
   "metadata": {},
   "outputs": [],
   "source": []
  },
  {
   "cell_type": "code",
   "execution_count": null,
   "id": "61860068",
   "metadata": {},
   "outputs": [],
   "source": []
  }
 ],
 "metadata": {
  "kernelspec": {
   "display_name": "Python 3 (ipykernel)",
   "language": "python",
   "name": "python3"
  },
  "language_info": {
   "codemirror_mode": {
    "name": "ipython",
    "version": 3
   },
   "file_extension": ".py",
   "mimetype": "text/x-python",
   "name": "python",
   "nbconvert_exporter": "python",
   "pygments_lexer": "ipython3",
   "version": "3.9.12"
  }
 },
 "nbformat": 4,
 "nbformat_minor": 5
}
